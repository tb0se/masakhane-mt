{
  "nbformat": 4,
  "nbformat_minor": 0,
  "metadata": {
    "accelerator": "GPU",
    "colab": {
      "name": "starter_notebook_reverse_training.ipynb",
      "provenance": [],
      "collapsed_sections": [],
      "include_colab_link": true
    },
    "kernelspec": {
      "display_name": "Python 3",
      "language": "python",
      "name": "python3"
    },
    "language_info": {
      "codemirror_mode": {
        "name": "ipython",
        "version": 3
      },
      "file_extension": ".py",
      "mimetype": "text/x-python",
      "name": "python",
      "nbconvert_exporter": "python",
      "pygments_lexer": "ipython3",
      "version": "3.7.3"
    }
  },
  "cells": [
    {
      "cell_type": "markdown",
      "metadata": {
        "id": "view-in-github",
        "colab_type": "text"
      },
      "source": [
        "<a href=\"https://colab.research.google.com/github/tb0se/masakhane-mt/blob/nso-dev/benchmarks/nso-en/jw300-baseline/nso-en%20baseline.ipynb\" target=\"_parent\"><img src=\"https://colab.research.google.com/assets/colab-badge.svg\" alt=\"Open In Colab\"/></a>"
      ]
    },
    {
      "cell_type": "markdown",
      "metadata": {
        "id": "Igc5itf-xMGj"
      },
      "source": [
        "# Masakhane - Reverse Machine Translation for African Languages (Using JoeyNMT)"
      ]
    },
    {
      "cell_type": "markdown",
      "metadata": {
        "id": "38t-DZ3pVukM"
      },
      "source": [
        "> ## NB\n",
        ">### - The purpose of this Notebook is to build models that translate African languages(target language) *into* English(source language). This will allow us to in future be able to make translations from one African language to the other. If you'd like to translate *from* English, please use [this](https://github.com/masakhane-io/masakhane-mt/blob/master/starter_notebook.ipynb) starter notebook instead.\n",
        "\n",
        ">### - We call this reverse training because normally we build models that make translations from the source language(English) to the target language. But in this case we are doing the reverse; building models that make translations from the target language to the source(English)"
      ]
    },
    {
      "cell_type": "markdown",
      "metadata": {
        "id": "x4fXCKCf36IK"
      },
      "source": [
        "## Note before beginning:\n",
        "### - The idea is that you should be able to make minimal changes to this in order to get SOME result for your own translation corpus. \n",
        "\n",
        "### - The tl;dr: Go to the **\"TODO\"** comments which will tell you what to update to get up and running\n",
        "\n",
        "### - If you actually want to have a clue what you're doing, read the text and peek at the links\n",
        "\n",
        "### - With 100 epochs, it should take around 7 hours to run in Google Colab\n",
        "\n",
        "### - Once you've gotten a result for your language, please attach and email your notebook that generated it to masakhanetranslation@gmail.com\n",
        "\n",
        "### - If you care enough and get a chance, doing a brief background on your language would be amazing. See examples in  [(Martinus, 2019)](https://arxiv.org/abs/1906.05685)"
      ]
    },
    {
      "cell_type": "markdown",
      "metadata": {
        "id": "l929HimrxS0a"
      },
      "source": [
        "## Retrieve your data & make a parallel corpus\n",
        "\n",
        "If you are wanting to use the JW300 data referenced on the Masakhane website or in our GitHub repo, you can use `opus-tools` to convert the data into a convenient format. `opus_read` from that package provides a convenient tool for reading the native aligned XML files and to convert them to TMX format. The tool can also be used to fetch relevant files from OPUS on the fly and to filter the data as necessary. [Read the documentation](https://pypi.org/project/opustools-pkg/) for more details.\n",
        "\n",
        "Once you have your corpus files in TMX format (an xml structure which will include the sentences in your target language and your source language in a single file), we recommend reading them into a pandas dataframe. Thankfully, Jade wrote a silly `tmx2dataframe` package which converts your tmx file to a pandas dataframe. "
      ]
    },
    {
      "cell_type": "code",
      "metadata": {
        "colab": {
          "base_uri": "https://localhost:8080/"
        },
        "id": "oGRmDELn7Az0",
        "outputId": "f6025ff5-d0ed-4cb3-f99f-2e759d831739"
      },
      "source": [
        "from google.colab import drive\n",
        "drive.mount('/content/drive')"
      ],
      "execution_count": 1,
      "outputs": [
        {
          "output_type": "stream",
          "name": "stdout",
          "text": [
            "Mounted at /content/drive\n"
          ]
        }
      ]
    },
    {
      "cell_type": "code",
      "metadata": {
        "id": "Cn3tgQLzUxwn"
      },
      "source": [
        "# TODO: Set your source and target languages. Keep in mind, these traditionally use language codes as found here:\n",
        "# These will also become the suffix's of all vocab and corpus files used throughout\n",
        "import os\n",
        "source_language = \"en\"\n",
        "target_language = \"nso\" \n",
        "lc = False  # If True, lowercase the data.\n",
        "seed = 42  # Random seed for shuffling.\n",
        "tag = \"baseline\" # Give a unique name to your folder - this is to ensure you don't rewrite any models you've already submitted\n",
        "\n",
        "os.environ[\"src\"] = source_language # Sets them in bash as well, since we often use bash scripts\n",
        "os.environ[\"tgt\"] = target_language\n",
        "os.environ[\"tag\"] = tag\n",
        "\n",
        "# This will save it to a folder in our gdrive instead!\n",
        "!mkdir -p \"/content/drive/My Drive/masakhane/$tgt-$src-$tag\"\n",
        "os.environ[\"gdrive_path\"] = \"/content/drive/My Drive/masakhane/%s-%s-%s\" % (target_language, source_language, tag)"
      ],
      "execution_count": 2,
      "outputs": []
    },
    {
      "cell_type": "code",
      "metadata": {
        "colab": {
          "base_uri": "https://localhost:8080/"
        },
        "id": "kBSgJHEw7Nvx",
        "outputId": "d11c1cde-89f6-4df6-af82-75da1e3ffe0b"
      },
      "source": [
        "!echo $gdrive_path"
      ],
      "execution_count": 3,
      "outputs": [
        {
          "output_type": "stream",
          "name": "stdout",
          "text": [
            "/content/drive/My Drive/masakhane/nso-en-baseline\n"
          ]
        }
      ]
    },
    {
      "cell_type": "code",
      "metadata": {
        "colab": {
          "base_uri": "https://localhost:8080/"
        },
        "id": "gA75Fs9ys8Y9",
        "outputId": "461dea6d-396f-486d-a123-2c20f6c6cd26"
      },
      "source": [
        "# Install opus-tools\n",
        "! pip install opustools-pkg"
      ],
      "execution_count": 4,
      "outputs": [
        {
          "output_type": "stream",
          "name": "stdout",
          "text": [
            "Collecting opustools-pkg\n",
            "  Downloading opustools_pkg-0.0.52-py3-none-any.whl (80 kB)\n",
            "\u001b[?25l\r\u001b[K     |████                            | 10 kB 23.6 MB/s eta 0:00:01\r\u001b[K     |████████                        | 20 kB 28.2 MB/s eta 0:00:01\r\u001b[K     |████████████▏                   | 30 kB 16.1 MB/s eta 0:00:01\r\u001b[K     |████████████████▏               | 40 kB 11.7 MB/s eta 0:00:01\r\u001b[K     |████████████████████▎           | 51 kB 5.8 MB/s eta 0:00:01\r\u001b[K     |████████████████████████▎       | 61 kB 5.9 MB/s eta 0:00:01\r\u001b[K     |████████████████████████████▎   | 71 kB 5.5 MB/s eta 0:00:01\r\u001b[K     |████████████████████████████████| 80 kB 3.9 MB/s \n",
            "\u001b[?25hInstalling collected packages: opustools-pkg\n",
            "Successfully installed opustools-pkg-0.0.52\n"
          ]
        }
      ]
    },
    {
      "cell_type": "code",
      "metadata": {
        "colab": {
          "base_uri": "https://localhost:8080/"
        },
        "id": "xq-tDZVks7ZD",
        "outputId": "1d8dffe7-d5f0-47b0-887c-450c43c6d529"
      },
      "source": [
        "# Downloading our corpus\n",
        "! opus_read -d JW300 -s $src -t $tgt -wm moses -w jw300.$src jw300.$tgt -q\n",
        "\n",
        "# extract the corpus file\n",
        "! gunzip JW300_latest_xml_$src-$tgt.xml.gz"
      ],
      "execution_count": 5,
      "outputs": [
        {
          "output_type": "stream",
          "name": "stdout",
          "text": [
            "\n",
            "Alignment file /proj/nlpl/data/OPUS/JW300/latest/xml/en-nso.xml.gz not found. The following files are available for downloading:\n",
            "\n",
            "   6 MB https://object.pouta.csc.fi/OPUS-JW300/v1c/xml/en-nso.xml.gz\n",
            " 274 MB https://object.pouta.csc.fi/OPUS-JW300/v1c/xml/en.zip\n",
            "  77 MB https://object.pouta.csc.fi/OPUS-JW300/v1c/xml/nso.zip\n",
            "\n",
            " 357 MB Total size\n",
            "./JW300_latest_xml_en-nso.xml.gz ... 100% of 6 MB\n",
            "./JW300_latest_xml_en.zip ... 100% of 274 MB\n",
            "./JW300_latest_xml_nso.zip ... 100% of 77 MB\n"
          ]
        }
      ]
    },
    {
      "cell_type": "code",
      "metadata": {
        "colab": {
          "base_uri": "https://localhost:8080/"
        },
        "id": "n48GDRnP8y2G",
        "outputId": "cb40f162-6e5b-4283-f853-8bf7d4ef0e40"
      },
      "source": [
        "# Download the global test set.\n",
        "! wget https://raw.githubusercontent.com/juliakreutzer/masakhane/master/jw300_utils/test/test.en-any.en\n",
        "  \n",
        "# And the specific test set for this language pair.\n",
        "os.environ[\"trg\"] = target_language \n",
        "os.environ[\"src\"] = source_language \n",
        "\n",
        "! wget https://raw.githubusercontent.com/juliakreutzer/masakhane/master/jw300_utils/test/test.en-$trg.en \n",
        "! mv test.en-$trg.en test.en\n",
        "! wget https://raw.githubusercontent.com/juliakreutzer/masakhane/master/jw300_utils/test/test.en-$trg.$trg \n",
        "! mv test.en-$trg.$trg test.$trg"
      ],
      "execution_count": 6,
      "outputs": [
        {
          "output_type": "stream",
          "name": "stdout",
          "text": [
            "--2021-10-14 13:35:39--  https://raw.githubusercontent.com/juliakreutzer/masakhane/master/jw300_utils/test/test.en-any.en\n",
            "Resolving raw.githubusercontent.com (raw.githubusercontent.com)... 185.199.109.133, 185.199.111.133, 185.199.108.133, ...\n",
            "Connecting to raw.githubusercontent.com (raw.githubusercontent.com)|185.199.109.133|:443... connected.\n",
            "HTTP request sent, awaiting response... 200 OK\n",
            "Length: 277791 (271K) [text/plain]\n",
            "Saving to: ‘test.en-any.en’\n",
            "\n",
            "\rtest.en-any.en        0%[                    ]       0  --.-KB/s               \rtest.en-any.en      100%[===================>] 271.28K  --.-KB/s    in 0.03s   \n",
            "\n",
            "2021-10-14 13:35:39 (8.65 MB/s) - ‘test.en-any.en’ saved [277791/277791]\n",
            "\n",
            "--2021-10-14 13:35:39--  https://raw.githubusercontent.com/juliakreutzer/masakhane/master/jw300_utils/test/test.en-nso.en\n",
            "Resolving raw.githubusercontent.com (raw.githubusercontent.com)... 185.199.108.133, 185.199.109.133, 185.199.110.133, ...\n",
            "Connecting to raw.githubusercontent.com (raw.githubusercontent.com)|185.199.108.133|:443... connected.\n",
            "HTTP request sent, awaiting response... 200 OK\n",
            "Length: 205401 (201K) [text/plain]\n",
            "Saving to: ‘test.en-nso.en’\n",
            "\n",
            "test.en-nso.en      100%[===================>] 200.59K  --.-KB/s    in 0.03s   \n",
            "\n",
            "2021-10-14 13:35:40 (7.67 MB/s) - ‘test.en-nso.en’ saved [205401/205401]\n",
            "\n",
            "--2021-10-14 13:35:40--  https://raw.githubusercontent.com/juliakreutzer/masakhane/master/jw300_utils/test/test.en-nso.nso\n",
            "Resolving raw.githubusercontent.com (raw.githubusercontent.com)... 185.199.108.133, 185.199.109.133, 185.199.110.133, ...\n",
            "Connecting to raw.githubusercontent.com (raw.githubusercontent.com)|185.199.108.133|:443... connected.\n",
            "HTTP request sent, awaiting response... 200 OK\n",
            "Length: 244175 (238K) [text/plain]\n",
            "Saving to: ‘test.en-nso.nso’\n",
            "\n",
            "test.en-nso.nso     100%[===================>] 238.45K  --.-KB/s    in 0.03s   \n",
            "\n",
            "2021-10-14 13:35:40 (8.50 MB/s) - ‘test.en-nso.nso’ saved [244175/244175]\n",
            "\n"
          ]
        }
      ]
    },
    {
      "cell_type": "code",
      "metadata": {
        "colab": {
          "base_uri": "https://localhost:8080/"
        },
        "id": "NqDG-CI28y2L",
        "outputId": "7156c32b-ecc7-4bcb-ebd5-f7041fe1247e"
      },
      "source": [
        "# Read the test data to filter from train and dev splits.\n",
        "# Store english portion in set for quick filtering checks.\n",
        "en_test_sents = set()\n",
        "filter_test_sents = \"test.en-any.en\"\n",
        "j = 0\n",
        "with open(filter_test_sents) as f:\n",
        "  for line in f:\n",
        "    en_test_sents.add(line.strip())\n",
        "    j += 1\n",
        "print('Loaded {} global test sentences to filter from the training/dev data.'.format(j))"
      ],
      "execution_count": 7,
      "outputs": [
        {
          "output_type": "stream",
          "name": "stdout",
          "text": [
            "Loaded 3571 global test sentences to filter from the training/dev data.\n"
          ]
        }
      ]
    },
    {
      "cell_type": "code",
      "metadata": {
        "colab": {
          "base_uri": "https://localhost:8080/",
          "height": 161
        },
        "id": "3CNdwLBCfSIl",
        "outputId": "c2088469-05b5-4cde-9317-ee0c215ecde3"
      },
      "source": [
        "import pandas as pd\n",
        "\n",
        "# TMX file to dataframe\n",
        "source_file = 'jw300.' + source_language\n",
        "target_file = 'jw300.' + target_language\n",
        "\n",
        "source = []\n",
        "target = []\n",
        "skip_lines = []  # Collect the line numbers of the source portion to skip the same lines for the target portion.\n",
        "with open(source_file) as f:\n",
        "    for i, line in enumerate(f):\n",
        "        # Skip sentences that are contained in the test set.\n",
        "        if line.strip() not in en_test_sents:\n",
        "            source.append(line.strip())\n",
        "        else:\n",
        "            skip_lines.append(i)             \n",
        "with open(target_file) as f:\n",
        "    for j, line in enumerate(f):\n",
        "        # Only add to corpus if corresponding source was not skipped.\n",
        "        if j not in skip_lines:\n",
        "            target.append(line.strip())\n",
        "    \n",
        "print('Loaded data and skipped {}/{} lines since contained in test set.'.format(len(skip_lines), i))\n",
        "    \n",
        "df = pd.DataFrame(zip(source, target), columns=['source_sentence', 'target_sentence'])\n",
        "# if you get TypeError: data argument can't be an iterator is because of your zip version run this below\n",
        "#df = pd.DataFrame(list(zip(source, target)), columns=['source_sentence', 'target_sentence'])\n",
        "df.head(3)"
      ],
      "execution_count": 8,
      "outputs": [
        {
          "output_type": "stream",
          "name": "stdout",
          "text": [
            "Loaded data and skipped 4796/617632 lines since contained in test set.\n"
          ]
        },
        {
          "output_type": "execute_result",
          "data": {
            "text/html": [
              "<div>\n",
              "<style scoped>\n",
              "    .dataframe tbody tr th:only-of-type {\n",
              "        vertical-align: middle;\n",
              "    }\n",
              "\n",
              "    .dataframe tbody tr th {\n",
              "        vertical-align: top;\n",
              "    }\n",
              "\n",
              "    .dataframe thead th {\n",
              "        text-align: right;\n",
              "    }\n",
              "</style>\n",
              "<table border=\"1\" class=\"dataframe\">\n",
              "  <thead>\n",
              "    <tr style=\"text-align: right;\">\n",
              "      <th></th>\n",
              "      <th>source_sentence</th>\n",
              "      <th>target_sentence</th>\n",
              "    </tr>\n",
              "  </thead>\n",
              "  <tbody>\n",
              "    <tr>\n",
              "      <th>0</th>\n",
              "      <td>They Rejoiced in Eastern Europe</td>\n",
              "      <td>Ba Ile Ba Thaba Ka Bohlabela Bja Yuropa</td>\n",
              "    </tr>\n",
              "    <tr>\n",
              "      <th>1</th>\n",
              "      <td>THIS past summer tens of thousands of people f...</td>\n",
              "      <td>SELEMONG se se se fetilego batho ba masome a d...</td>\n",
              "    </tr>\n",
              "    <tr>\n",
              "      <th>2</th>\n",
              "      <td>The streets of beautiful Budapest , Prague , Z...</td>\n",
              "      <td>Ditarata tša Budapest e botse , Prague , Zagre...</td>\n",
              "    </tr>\n",
              "  </tbody>\n",
              "</table>\n",
              "</div>"
            ],
            "text/plain": [
              "                                     source_sentence                                    target_sentence\n",
              "0                    They Rejoiced in Eastern Europe            Ba Ile Ba Thaba Ka Bohlabela Bja Yuropa\n",
              "1  THIS past summer tens of thousands of people f...  SELEMONG se se se fetilego batho ba masome a d...\n",
              "2  The streets of beautiful Budapest , Prague , Z...  Ditarata tša Budapest e botse , Prague , Zagre..."
            ]
          },
          "metadata": {},
          "execution_count": 8
        }
      ]
    },
    {
      "cell_type": "markdown",
      "metadata": {
        "id": "YkuK3B4p2AkN"
      },
      "source": [
        "## Pre-processing and export\n",
        "\n",
        "It is generally a good idea to remove duplicate translations and conflicting translations from the corpus. In practice, these public corpora include some number of these that need to be cleaned.\n",
        "\n",
        "In addition we will split our data into dev/test/train and export to the filesystem."
      ]
    },
    {
      "cell_type": "code",
      "metadata": {
        "colab": {
          "base_uri": "https://localhost:8080/"
        },
        "id": "M_2ouEOH1_1q",
        "outputId": "dc86864b-8b8a-4817-a685-1f823dd8ad1a"
      },
      "source": [
        "# drop duplicate translations\n",
        "df_pp = df.drop_duplicates()\n",
        "\n",
        "# drop conflicting translations\n",
        "# (this is optional and something that you might want to comment out \n",
        "# depending on the size of your corpus)\n",
        "df_pp.drop_duplicates(subset='source_sentence', inplace=True)\n",
        "df_pp.drop_duplicates(subset='target_sentence', inplace=True)\n",
        "\n",
        "# Shuffle the data to remove bias in dev set selection.\n",
        "df_pp = df_pp.sample(frac=1, random_state=seed).reset_index(drop=True)"
      ],
      "execution_count": 9,
      "outputs": [
        {
          "output_type": "stream",
          "name": "stderr",
          "text": [
            "/usr/local/lib/python3.7/dist-packages/ipykernel_launcher.py:7: SettingWithCopyWarning: \n",
            "A value is trying to be set on a copy of a slice from a DataFrame\n",
            "\n",
            "See the caveats in the documentation: https://pandas.pydata.org/pandas-docs/stable/user_guide/indexing.html#returning-a-view-versus-a-copy\n",
            "  import sys\n",
            "/usr/local/lib/python3.7/dist-packages/ipykernel_launcher.py:8: SettingWithCopyWarning: \n",
            "A value is trying to be set on a copy of a slice from a DataFrame\n",
            "\n",
            "See the caveats in the documentation: https://pandas.pydata.org/pandas-docs/stable/user_guide/indexing.html#returning-a-view-versus-a-copy\n",
            "  \n"
          ]
        }
      ]
    },
    {
      "cell_type": "code",
      "metadata": {
        "colab": {
          "base_uri": "https://localhost:8080/"
        },
        "id": "Z_1BwAApEtMk",
        "outputId": "593929cc-4bd5-4606-c075-17af98c39eca"
      },
      "source": [
        "# Install fuzzy wuzzy to remove \"almost duplicate\" sentences in the\n",
        "# test and training sets.\n",
        "! pip install fuzzywuzzy\n",
        "! pip install python-Levenshtein\n",
        "import time\n",
        "from fuzzywuzzy import process\n",
        "import numpy as np\n",
        "from os import cpu_count\n",
        "from functools import partial\n",
        "from multiprocessing import Pool\n",
        "\n",
        "\n",
        "# reset the index of the training set after previous filtering\n",
        "df_pp.reset_index(drop=False, inplace=True)\n",
        "\n",
        "# Remove samples from the training data set if they \"almost overlap\" with the\n",
        "# samples in the test set.\n",
        "\n",
        "# Filtering function. Adjust pad to narrow down the candidate matches to\n",
        "# within a certain length of characters of the given sample.\n",
        "def fuzzfilter(sample, candidates, pad):\n",
        "  candidates = [x for x in candidates if len(x) <= len(sample)+pad and len(x) >= len(sample)-pad] \n",
        "  if len(candidates) > 0:\n",
        "    return process.extractOne(sample, candidates)[1]\n",
        "  else:\n",
        "    return np.nan"
      ],
      "execution_count": 10,
      "outputs": [
        {
          "output_type": "stream",
          "name": "stdout",
          "text": [
            "Collecting fuzzywuzzy\n",
            "  Downloading fuzzywuzzy-0.18.0-py2.py3-none-any.whl (18 kB)\n",
            "Installing collected packages: fuzzywuzzy\n",
            "Successfully installed fuzzywuzzy-0.18.0\n",
            "Collecting python-Levenshtein\n",
            "  Downloading python-Levenshtein-0.12.2.tar.gz (50 kB)\n",
            "\u001b[K     |████████████████████████████████| 50 kB 3.0 MB/s \n",
            "\u001b[?25hRequirement already satisfied: setuptools in /usr/local/lib/python3.7/dist-packages (from python-Levenshtein) (57.4.0)\n",
            "Building wheels for collected packages: python-Levenshtein\n",
            "  Building wheel for python-Levenshtein (setup.py) ... \u001b[?25l\u001b[?25hdone\n",
            "  Created wheel for python-Levenshtein: filename=python_Levenshtein-0.12.2-cp37-cp37m-linux_x86_64.whl size=149858 sha256=106cd77e8a1f3dbd5c0585fbabdc9cfdf42b839d85b586b87d094e9ba3aabb7e\n",
            "  Stored in directory: /root/.cache/pip/wheels/05/5f/ca/7c4367734892581bb5ff896f15027a932c551080b2abd3e00d\n",
            "Successfully built python-Levenshtein\n",
            "Installing collected packages: python-Levenshtein\n",
            "Successfully installed python-Levenshtein-0.12.2\n"
          ]
        }
      ]
    },
    {
      "cell_type": "code",
      "metadata": {
        "id": "92EsgTaY3B4H"
      },
      "source": [
        "# start_time = time.time()\n",
        "# ### iterating over pandas dataframe rows is not recomended, let use multi processing to apply the function\n",
        "\n",
        "# with Pool(cpu_count()-1) as pool:\n",
        "#     scores = pool.map(partial(fuzzfilter, candidates=list(en_test_sents), pad=5), df_pp['source_sentence'])\n",
        "# hours, rem = divmod(time.time() - start_time, 3600)\n",
        "# minutes, seconds = divmod(rem, 60)\n",
        "# print(\"done in {}h:{}min:{}seconds\".format(hours, minutes, seconds))\n",
        "\n",
        "# # Filter out \"almost overlapping samples\"\n",
        "# df_pp = df_pp.assign(scores=scores)\n",
        "# df_pp = df_pp[df_pp['scores'] < 95]"
      ],
      "execution_count": null,
      "outputs": []
    },
    {
      "cell_type": "code",
      "metadata": {
        "colab": {
          "base_uri": "https://localhost:8080/"
        },
        "id": "hxxBOCA-xXhy",
        "outputId": "c5917de5-e492-4e3a-c900-3239d5e9b66f"
      },
      "source": [
        "# This section does the split between train/dev for the parallel corpora then saves them as separate files\n",
        "# We use 1000 dev test and the given test set.\n",
        "import csv\n",
        "\n",
        "# Do the split between dev/train and create parallel corpora\n",
        "num_dev_patterns = 1000\n",
        "\n",
        "# Optional: lower case the corpora - this will make it easier to generalize, but without proper casing.\n",
        "if lc:  # Julia: making lowercasing optional\n",
        "    df_pp[\"source_sentence\"] = df_pp[\"source_sentence\"].str.lower()\n",
        "    df_pp[\"target_sentence\"] = df_pp[\"target_sentence\"].str.lower()\n",
        "\n",
        "# Julia: test sets are already generated\n",
        "dev = df_pp.tail(num_dev_patterns) # Herman: Error in original\n",
        "stripped = df_pp.drop(df_pp.tail(num_dev_patterns).index)\n",
        "\n",
        "with open(\"train.\"+source_language, \"w\") as src_file, open(\"train.\"+target_language, \"w\") as trg_file:\n",
        "  for index, row in stripped.iterrows():\n",
        "    src_file.write(row[\"source_sentence\"]+\"\\n\")\n",
        "    trg_file.write(row[\"target_sentence\"]+\"\\n\")\n",
        "    \n",
        "with open(\"dev.\"+source_language, \"w\") as src_file, open(\"dev.\"+target_language, \"w\") as trg_file:\n",
        "  for index, row in dev.iterrows():\n",
        "    src_file.write(row[\"source_sentence\"]+\"\\n\")\n",
        "    trg_file.write(row[\"target_sentence\"]+\"\\n\")\n",
        "\n",
        "#stripped[[\"source_sentence\"]].to_csv(\"train.\"+source_language, header=False, index=False)  # Herman: Added `header=False` everywhere\n",
        "#stripped[[\"target_sentence\"]].to_csv(\"train.\"+target_language, header=False, index=False)  # Julia: Problematic handling of quotation marks.\n",
        "\n",
        "#dev[[\"source_sentence\"]].to_csv(\"dev.\"+source_language, header=False, index=False)\n",
        "#dev[[\"target_sentence\"]].to_csv(\"dev.\"+target_language, header=False, index=False)\n",
        "\n",
        "# Doublecheck the format below. There should be no extra quotation marks or weird characters.\n",
        "! head train.*\n",
        "! head dev.*"
      ],
      "execution_count": 11,
      "outputs": [
        {
          "output_type": "stream",
          "name": "stdout",
          "text": [
            "==> train.en <==\n",
            "Do you too suffer from an “ invisible ” illness ?\n",
            "It is undermining the earth ’ s potential to provide the food and shelter all of us need to survive .\n",
            "Messiah ’ s Coming , 2 / 15 LIFE STORIES\n",
            "Let us too be alert to opportunities to speak about the Kingdom. — John 2 : 23 ; 3 : 1-22 ; 4 : 1-42 ; Mark 1 : 14 .\n",
            "They abandoned their fleshly bodies and returned to the spirit realm as spirit creatures .\n",
            "And Jesus did not offer an apology when the high priest demanded : “ By the living God I put you under oath to tell us whether you are the Christ the Son of God ! ” Instead of sheepishly apologizing , Jesus courageously replied : “ You yourself said it .\n",
            "23 Is it a burden to serve Jehovah along with his organized people ?\n",
            "What should be our response to apostate thinking ?\n",
            "( Galatians 5 : 19-21 ) So we must conclude that Paul was stating a general truth about two types of people , those who are morally and spiritually clean and those who are not .\n",
            "In rural areas these are often allowed to be filthy and dilapidated and are a major source of illness and disease .\n",
            "\n",
            "==> train.nso <==\n",
            "Na le wena o tlaišwa ke bolwetši bjoo maswao a bjona “ a sa bonagalego ” ?\n",
            "E fokodiša matla a lefase a go nea dijo le madulo tšeo ka moka ga rena re di nyakago bakeng sa go tšwela pele re phela .\n",
            "‘ Dikgopotšo tša Gago ke Tšona tše ke di Ratago , ’ 6 / 15\n",
            "Le rena anke re phafogeleng dibaka tša go bolela ka Mmušo . — Johane 2 : 23 ; 3 : 1 - 22 ; 4 : 1 - 42 ; Mareka 1 : 14 .\n",
            "Ba ile ba apola mebele ya bona ya nama gomme ba boela lefelong la moya e le dibopiwa tša moya .\n",
            "Le gona Jesu ga se a ka a kgopela tshwarelo ge moperisita yo mogolo a be a re : “ Ké Xo eniša ka Modimo a phelaxo , xore O re botšê xe O le Kriste Morwa wa Modimo . ”\n",
            "23 Na ke morwalo go hlankela Jehofa gotee le batho ba gagwe ba rulagantšwego ?\n",
            "Re swanetše go arabela bjang dikgopolong tša bohlanogi ?\n",
            "( Bagalatia 5 : 19 - 21 ) Ka gona re swanetše go phetha ka gore Paulo o be a bolela therešo ka mehuta e mebedi ya batho , ka bao ba nago le mekgwa e hlwekilego ya boitshwaro le go ba le tswalano e botse le Modimo gotee le ka bao ba sego bjalo .\n",
            "Mafelo a magaeng gantši a tlogelwa a šilafetše e bile a se boemong bjo bobotse ka go rialo a fetoga mothopo o mogolo wa bolwetši .\n",
            "==> dev.en <==\n",
            "Often , the result is that our activity is seen in a positive way .\n",
            "If native-born Mexicans did not embrace the new religion , they were regarded as idolaters and were severely persecuted .\n",
            "Professor Rudolf Schenkel , the survivor of the rhino charge described earlier , laments the fact that man has made himself the only enemy the rhino has .\n",
            "No matter how many children you have , never give up in helping them along the path to everlasting life .\n",
            "6 How would Jehovah respond to Satan ’ s challenge in Eden ?\n",
            "Plus , my three older brothers would tease me mercilessly .\n",
            "But just how objective and how conducive to religious freedom is it when some journalists , instead of consulting objective experts , rely on information from churches who see their numbers dwindling or from antisect organizations whose objectivity is open to serious question ?\n",
            "The king tried to do something that only priests were allowed to do .\n",
            "I feel so very privileged .\n",
            "16 The apostle warned against tendencies toward falsehood , stealing , shameful conduct , and so forth .\n",
            "\n",
            "==> dev.nso <==\n",
            "Gantši ba feleletša ba lemoga gore re dira mošomo o mobotse .\n",
            "Ge ma - Mexico a setlogo a belegetšwego moo a be a sa amogele bodumedi bjo bofsa , a be a tšewa e le barapedi ba diswantšho gomme a tlaišwa o šoro .\n",
            "Moprofesara Rudolf Schenkel , mophologi wa tlhaselo ya tšhukudu yo go boletšwego ka yena pejana o lla ka therešo ya gore motho o itirile lenaba le nnoši leo tšhukudu e nago le lona .\n",
            "Go sa šetšwe gore o na le bana ba bakae , o se ke wa langwa go ba thušeng tseleng e išago bophelong bjo bo sa felego .\n",
            "6 Jehofa o be a tla arabela bjang go kgang yeo Sathane a e rotošitšego kua Edene ?\n",
            "Le gona dikgaetšedi tša ka tše tharo tše dikgolo di be di nkwera di sa nkwele bohloko .\n",
            "Eupša ke mo go nago le morero le mo go holago gakaaka’ng tokologong ya bodumedi ge bangwadi ba bangwe ba ditaba , go e na le go ya go ditsebi tše di nago le morero , ba ithekga ka tsebišo e tšwago dikerekeng tšeo di bonago dipalo tša tšona di fokotšega goba go tšwa mekgatlong yeo e ganetšago dihlotswana tša bodumedi tše morero wa tšona e lego o belaetšago ?\n",
            "Kgoši ye e ile ya leka go dira selo seo e bego e le baperisita feela ba bego ba dumeletšwe go se dira .\n",
            "Ke ikwa ke neilwe tokelo e kgolo .\n",
            "16 Moapostola o ile a lemoša ka ditshekamelo tšeo di lebišago maakeng , go utsweng , boitshwarong bjo bo lešago dihlong le tše dingwe .\n"
          ]
        }
      ]
    },
    {
      "cell_type": "markdown",
      "metadata": {
        "id": "epeCydmCyS8X"
      },
      "source": [
        "\n",
        "\n",
        "---\n",
        "\n",
        "\n",
        "## Installation of JoeyNMT\n",
        "\n",
        "JoeyNMT is a simple, minimalist NMT package which is useful for learning and teaching. Check out the documentation for JoeyNMT [here](https://joeynmt.readthedocs.io)  "
      ]
    },
    {
      "cell_type": "code",
      "metadata": {
        "colab": {
          "base_uri": "https://localhost:8080/"
        },
        "id": "iBRMm4kMxZ8L",
        "outputId": "49bbc43c-4db6-4a8b-8c0f-1949c1e6fd36"
      },
      "source": [
        "# Install JoeyNMT\n",
        "! git clone https://github.com/joeynmt/joeynmt.git\n",
        "! cd joeynmt; pip3 install .\n",
        "# Install Pytorch with GPU support v1.7.1.\n",
        "# ! pip install torch==1.9.0+cu101 -f https://download.pytorch.org/whl/torch_stable.html\n",
        "! pip install torch==1.9.0 -f https://download.pytorch.org/whl/torch_stable.html"
      ],
      "execution_count": 13,
      "outputs": [
        {
          "output_type": "stream",
          "name": "stdout",
          "text": [
            "fatal: destination path 'joeynmt' already exists and is not an empty directory.\n",
            "Processing /content/joeynmt\n",
            "\u001b[33m  DEPRECATION: A future pip version will change local packages to be built in-place without first copying to a temporary directory. We recommend you use --use-feature=in-tree-build to test your packages with this new behavior before it becomes the default.\n",
            "   pip 21.3 will remove support for this functionality. You can find discussion regarding this at https://github.com/pypa/pip/issues/7555.\u001b[0m\n",
            "Requirement already satisfied: future in /usr/local/lib/python3.7/dist-packages (from joeynmt==1.3) (0.16.0)\n",
            "Requirement already satisfied: pillow in /usr/local/lib/python3.7/dist-packages (from joeynmt==1.3) (7.1.2)\n",
            "Requirement already satisfied: numpy>=1.19.5 in /usr/local/lib/python3.7/dist-packages (from joeynmt==1.3) (1.19.5)\n",
            "Requirement already satisfied: setuptools>=41.0.0 in /usr/local/lib/python3.7/dist-packages (from joeynmt==1.3) (57.4.0)\n",
            "Requirement already satisfied: torch>=1.9.0 in /usr/local/lib/python3.7/dist-packages (from joeynmt==1.3) (1.9.0+cu111)\n",
            "Requirement already satisfied: tensorboard>=1.15 in /usr/local/lib/python3.7/dist-packages (from joeynmt==1.3) (2.6.0)\n",
            "Requirement already satisfied: torchtext>=0.10.0 in /usr/local/lib/python3.7/dist-packages (from joeynmt==1.3) (0.10.0)\n",
            "Requirement already satisfied: sacrebleu>=2.0.0 in /usr/local/lib/python3.7/dist-packages (from joeynmt==1.3) (2.0.0)\n",
            "Requirement already satisfied: subword-nmt in /usr/local/lib/python3.7/dist-packages (from joeynmt==1.3) (0.3.7)\n",
            "Requirement already satisfied: matplotlib in /usr/local/lib/python3.7/dist-packages (from joeynmt==1.3) (3.2.2)\n",
            "Requirement already satisfied: seaborn in /usr/local/lib/python3.7/dist-packages (from joeynmt==1.3) (0.11.2)\n",
            "Requirement already satisfied: pyyaml>=5.1 in /usr/local/lib/python3.7/dist-packages (from joeynmt==1.3) (6.0)\n",
            "Requirement already satisfied: pylint>=2.9.6 in /usr/local/lib/python3.7/dist-packages (from joeynmt==1.3) (2.11.1)\n",
            "Requirement already satisfied: six==1.12 in /usr/local/lib/python3.7/dist-packages (from joeynmt==1.3) (1.12.0)\n",
            "Requirement already satisfied: wrapt==1.11.1 in /usr/local/lib/python3.7/dist-packages (from joeynmt==1.3) (1.11.1)\n",
            "Requirement already satisfied: mccabe<0.7,>=0.6 in /usr/local/lib/python3.7/dist-packages (from pylint>=2.9.6->joeynmt==1.3) (0.6.1)\n",
            "Requirement already satisfied: astroid<2.9,>=2.8.0 in /usr/local/lib/python3.7/dist-packages (from pylint>=2.9.6->joeynmt==1.3) (2.8.2)\n",
            "Requirement already satisfied: typing-extensions>=3.10.0 in /usr/local/lib/python3.7/dist-packages (from pylint>=2.9.6->joeynmt==1.3) (3.10.0.2)\n",
            "Requirement already satisfied: platformdirs>=2.2.0 in /usr/local/lib/python3.7/dist-packages (from pylint>=2.9.6->joeynmt==1.3) (2.4.0)\n",
            "Requirement already satisfied: toml>=0.7.1 in /usr/local/lib/python3.7/dist-packages (from pylint>=2.9.6->joeynmt==1.3) (0.10.2)\n",
            "Requirement already satisfied: isort<6,>=4.2.5 in /usr/local/lib/python3.7/dist-packages (from pylint>=2.9.6->joeynmt==1.3) (5.9.3)\n",
            "Requirement already satisfied: typed-ast<1.5,>=1.4.0 in /usr/local/lib/python3.7/dist-packages (from astroid<2.9,>=2.8.0->pylint>=2.9.6->joeynmt==1.3) (1.4.3)\n",
            "Requirement already satisfied: lazy-object-proxy>=1.4.0 in /usr/local/lib/python3.7/dist-packages (from astroid<2.9,>=2.8.0->pylint>=2.9.6->joeynmt==1.3) (1.6.0)\n",
            "Requirement already satisfied: portalocker in /usr/local/lib/python3.7/dist-packages (from sacrebleu>=2.0.0->joeynmt==1.3) (2.3.2)\n",
            "Requirement already satisfied: colorama in /usr/local/lib/python3.7/dist-packages (from sacrebleu>=2.0.0->joeynmt==1.3) (0.4.4)\n",
            "Requirement already satisfied: tabulate>=0.8.9 in /usr/local/lib/python3.7/dist-packages (from sacrebleu>=2.0.0->joeynmt==1.3) (0.8.9)\n",
            "Requirement already satisfied: regex in /usr/local/lib/python3.7/dist-packages (from sacrebleu>=2.0.0->joeynmt==1.3) (2019.12.20)\n",
            "Requirement already satisfied: tensorboard-plugin-wit>=1.6.0 in /usr/local/lib/python3.7/dist-packages (from tensorboard>=1.15->joeynmt==1.3) (1.8.0)\n",
            "Requirement already satisfied: grpcio>=1.24.3 in /usr/local/lib/python3.7/dist-packages (from tensorboard>=1.15->joeynmt==1.3) (1.41.0)\n",
            "Requirement already satisfied: markdown>=2.6.8 in /usr/local/lib/python3.7/dist-packages (from tensorboard>=1.15->joeynmt==1.3) (3.3.4)\n",
            "Requirement already satisfied: wheel>=0.26 in /usr/local/lib/python3.7/dist-packages (from tensorboard>=1.15->joeynmt==1.3) (0.37.0)\n",
            "Requirement already satisfied: google-auth<2,>=1.6.3 in /usr/local/lib/python3.7/dist-packages (from tensorboard>=1.15->joeynmt==1.3) (1.35.0)\n",
            "Requirement already satisfied: protobuf>=3.6.0 in /usr/local/lib/python3.7/dist-packages (from tensorboard>=1.15->joeynmt==1.3) (3.17.3)\n",
            "Requirement already satisfied: werkzeug>=0.11.15 in /usr/local/lib/python3.7/dist-packages (from tensorboard>=1.15->joeynmt==1.3) (1.0.1)\n",
            "Requirement already satisfied: requests<3,>=2.21.0 in /usr/local/lib/python3.7/dist-packages (from tensorboard>=1.15->joeynmt==1.3) (2.23.0)\n",
            "Requirement already satisfied: tensorboard-data-server<0.7.0,>=0.6.0 in /usr/local/lib/python3.7/dist-packages (from tensorboard>=1.15->joeynmt==1.3) (0.6.1)\n",
            "Requirement already satisfied: google-auth-oauthlib<0.5,>=0.4.1 in /usr/local/lib/python3.7/dist-packages (from tensorboard>=1.15->joeynmt==1.3) (0.4.6)\n",
            "Requirement already satisfied: absl-py>=0.4 in /usr/local/lib/python3.7/dist-packages (from tensorboard>=1.15->joeynmt==1.3) (0.12.0)\n",
            "Requirement already satisfied: rsa<5,>=3.1.4 in /usr/local/lib/python3.7/dist-packages (from google-auth<2,>=1.6.3->tensorboard>=1.15->joeynmt==1.3) (4.7.2)\n",
            "Requirement already satisfied: pyasn1-modules>=0.2.1 in /usr/local/lib/python3.7/dist-packages (from google-auth<2,>=1.6.3->tensorboard>=1.15->joeynmt==1.3) (0.2.8)\n",
            "Requirement already satisfied: cachetools<5.0,>=2.0.0 in /usr/local/lib/python3.7/dist-packages (from google-auth<2,>=1.6.3->tensorboard>=1.15->joeynmt==1.3) (4.2.4)\n",
            "Requirement already satisfied: requests-oauthlib>=0.7.0 in /usr/local/lib/python3.7/dist-packages (from google-auth-oauthlib<0.5,>=0.4.1->tensorboard>=1.15->joeynmt==1.3) (1.3.0)\n",
            "Requirement already satisfied: importlib-metadata in /usr/local/lib/python3.7/dist-packages (from markdown>=2.6.8->tensorboard>=1.15->joeynmt==1.3) (4.8.1)\n",
            "Requirement already satisfied: pyasn1<0.5.0,>=0.4.6 in /usr/local/lib/python3.7/dist-packages (from pyasn1-modules>=0.2.1->google-auth<2,>=1.6.3->tensorboard>=1.15->joeynmt==1.3) (0.4.8)\n",
            "Requirement already satisfied: certifi>=2017.4.17 in /usr/local/lib/python3.7/dist-packages (from requests<3,>=2.21.0->tensorboard>=1.15->joeynmt==1.3) (2021.5.30)\n",
            "Requirement already satisfied: urllib3!=1.25.0,!=1.25.1,<1.26,>=1.21.1 in /usr/local/lib/python3.7/dist-packages (from requests<3,>=2.21.0->tensorboard>=1.15->joeynmt==1.3) (1.24.3)\n",
            "Requirement already satisfied: chardet<4,>=3.0.2 in /usr/local/lib/python3.7/dist-packages (from requests<3,>=2.21.0->tensorboard>=1.15->joeynmt==1.3) (3.0.4)\n",
            "Requirement already satisfied: idna<3,>=2.5 in /usr/local/lib/python3.7/dist-packages (from requests<3,>=2.21.0->tensorboard>=1.15->joeynmt==1.3) (2.10)\n",
            "Requirement already satisfied: oauthlib>=3.0.0 in /usr/local/lib/python3.7/dist-packages (from requests-oauthlib>=0.7.0->google-auth-oauthlib<0.5,>=0.4.1->tensorboard>=1.15->joeynmt==1.3) (3.1.1)\n",
            "Requirement already satisfied: tqdm in /usr/local/lib/python3.7/dist-packages (from torchtext>=0.10.0->joeynmt==1.3) (4.62.3)\n",
            "Requirement already satisfied: zipp>=0.5 in /usr/local/lib/python3.7/dist-packages (from importlib-metadata->markdown>=2.6.8->tensorboard>=1.15->joeynmt==1.3) (3.6.0)\n",
            "Requirement already satisfied: python-dateutil>=2.1 in /usr/local/lib/python3.7/dist-packages (from matplotlib->joeynmt==1.3) (2.8.2)\n",
            "Requirement already satisfied: pyparsing!=2.0.4,!=2.1.2,!=2.1.6,>=2.0.1 in /usr/local/lib/python3.7/dist-packages (from matplotlib->joeynmt==1.3) (2.4.7)\n",
            "Requirement already satisfied: kiwisolver>=1.0.1 in /usr/local/lib/python3.7/dist-packages (from matplotlib->joeynmt==1.3) (1.3.2)\n",
            "Requirement already satisfied: cycler>=0.10 in /usr/local/lib/python3.7/dist-packages (from matplotlib->joeynmt==1.3) (0.10.0)\n",
            "Requirement already satisfied: pandas>=0.23 in /usr/local/lib/python3.7/dist-packages (from seaborn->joeynmt==1.3) (1.1.5)\n",
            "Requirement already satisfied: scipy>=1.0 in /usr/local/lib/python3.7/dist-packages (from seaborn->joeynmt==1.3) (1.4.1)\n",
            "Requirement already satisfied: pytz>=2017.2 in /usr/local/lib/python3.7/dist-packages (from pandas>=0.23->seaborn->joeynmt==1.3) (2018.9)\n",
            "Building wheels for collected packages: joeynmt\n",
            "  Building wheel for joeynmt (setup.py) ... \u001b[?25l\u001b[?25hdone\n",
            "  Created wheel for joeynmt: filename=joeynmt-1.3-py3-none-any.whl size=86029 sha256=5e0f064ebfa22b809ed4618bee8727693178b2071c58690f1809db9f599e69b0\n",
            "  Stored in directory: /tmp/pip-ephem-wheel-cache-6gm5op_c/wheels/0a/f4/bf/6c9d3b8efbfece6cd209f865be37382b02e7c3584df2e28ca4\n",
            "Successfully built joeynmt\n",
            "Installing collected packages: joeynmt\n",
            "  Attempting uninstall: joeynmt\n",
            "    Found existing installation: joeynmt 1.3\n",
            "    Uninstalling joeynmt-1.3:\n",
            "      Successfully uninstalled joeynmt-1.3\n",
            "Successfully installed joeynmt-1.3\n",
            "Looking in links: https://download.pytorch.org/whl/torch_stable.html\n",
            "Requirement already satisfied: torch==1.9.0 in /usr/local/lib/python3.7/dist-packages (1.9.0+cu111)\n",
            "Requirement already satisfied: typing-extensions in /usr/local/lib/python3.7/dist-packages (from torch==1.9.0) (3.10.0.2)\n"
          ]
        }
      ]
    },
    {
      "cell_type": "markdown",
      "metadata": {
        "id": "AaE77Tcppex9"
      },
      "source": [
        "# Preprocessing the Data into Subword BPE Tokens\n",
        "\n",
        "- One of the most powerful improvements for agglutinative languages (a feature of most Bantu languages) is using BPE tokenization [ (Sennrich, 2015) ](https://arxiv.org/abs/1508.07909).\n",
        "\n",
        "- It was also shown that by optimizing the umber of BPE codes we significantly improve results for low-resourced languages [(Sennrich, 2019)](https://www.aclweb.org/anthology/P19-1021) [(Martinus, 2019)](https://arxiv.org/abs/1906.05685)\n",
        "\n",
        "- Below we have the scripts for doing BPE tokenization of our data. We use 4000 tokens as recommended by [(Sennrich, 2019)](https://www.aclweb.org/anthology/P19-1021). You do not need to change anything. Simply running the below will be suitable. "
      ]
    },
    {
      "cell_type": "code",
      "metadata": {
        "colab": {
          "base_uri": "https://localhost:8080/"
        },
        "id": "H-TyjtmXB1mL",
        "outputId": "26c77ec9-03bd-4470-f28d-b298183c1c72"
      },
      "source": [
        "# One of the huge boosts in NMT performance was to use a different method of tokenizing. \n",
        "# Usually, NMT would tokenize by words. However, using a method called BPE gave amazing boosts to performance\n",
        "\n",
        "# Do subword NMT\n",
        "from os import path\n",
        "os.environ[\"src\"] = source_language # Sets them in bash as well, since we often use bash scripts\n",
        "os.environ[\"tgt\"] = target_language\n",
        "\n",
        "# Learn BPEs on the training data.\n",
        "os.environ[\"data_path\"] = path.join(\"joeynmt\", \"data\",target_language + source_language ) # Herman! \n",
        "! subword-nmt learn-joint-bpe-and-vocab --input train.$src train.$tgt -s 4000 -o bpe.codes.4000 --write-vocabulary vocab.$src vocab.$tgt\n",
        "\n",
        "# Apply BPE splits to the development and test data.\n",
        "! subword-nmt apply-bpe -c bpe.codes.4000 --vocabulary vocab.$src < train.$src > train.bpe.$src\n",
        "! subword-nmt apply-bpe -c bpe.codes.4000 --vocabulary vocab.$tgt < train.$tgt > train.bpe.$tgt\n",
        "\n",
        "! subword-nmt apply-bpe -c bpe.codes.4000 --vocabulary vocab.$src < dev.$src > dev.bpe.$src\n",
        "! subword-nmt apply-bpe -c bpe.codes.4000 --vocabulary vocab.$tgt < dev.$tgt > dev.bpe.$tgt\n",
        "! subword-nmt apply-bpe -c bpe.codes.4000 --vocabulary vocab.$src < test.$src > test.bpe.$src\n",
        "! subword-nmt apply-bpe -c bpe.codes.4000 --vocabulary vocab.$tgt < test.$tgt > test.bpe.$tgt\n",
        "\n",
        "# Create directory, move everyone we care about to the correct location\n",
        "! mkdir -p $data_path\n",
        "! cp train.* $data_path\n",
        "! cp test.* $data_path\n",
        "! cp dev.* $data_path\n",
        "! cp bpe.codes.4000 $data_path\n",
        "! ls $data_path\n",
        "\n",
        "# Also move everything we care about to a mounted location in google drive (relevant if running in colab) at gdrive_path\n",
        "! cp train.* \"$gdrive_path\"\n",
        "! cp test.* \"$gdrive_path\"\n",
        "! cp dev.* \"$gdrive_path\"\n",
        "! cp bpe.codes.4000 \"$gdrive_path\"\n",
        "! ls \"$gdrive_path\"\n",
        "\n",
        "# Create that vocab using build_vocab\n",
        "! sudo chmod 777 joeynmt/scripts/build_vocab.py\n",
        "! joeynmt/scripts/build_vocab.py joeynmt/data/$tgt$src/train.bpe.$src joeynmt/data/$tgt$src/train.bpe.$tgt --output_path joeynmt/data/$tgt$src/vocab.txt\n",
        "\n",
        "# Some output\n",
        "! echo \"BPE Swahili Sentences\"\n",
        "! tail -n 5 test.bpe.$tgt\n",
        "! echo \"Combined BPE Vocab\"\n",
        "! tail -n 10 joeynmt/data/$tgt$src/vocab.txt  # Herman"
      ],
      "execution_count": 14,
      "outputs": [
        {
          "output_type": "stream",
          "name": "stdout",
          "text": [
            "bpe.codes.4000\tdev.en\t     test.bpe.nso    test.nso\t    train.en\n",
            "dev.bpe.en\tdev.nso      test.en\t     train.bpe.en   train.nso\n",
            "dev.bpe.nso\ttest.bpe.en  test.en-any.en  train.bpe.nso\n",
            "bpe.codes.4000\tdev.en\t     test.bpe.nso    test.nso\t    train.en\n",
            "dev.bpe.en\tdev.nso      test.en\t     train.bpe.en   train.nso\n",
            "dev.bpe.nso\ttest.bpe.en  test.en-any.en  train.bpe.nso\n",
            "BPE Swahili Sentences\n",
            "Mafelelong ke ile ka tu@@ ma ka go se bote@@ ge .\n",
            "Ka morago ga gore ke ithu@@ te therešo , ke ile ka gana go tšwela pele ke dira seo , gaešita le ge mošomo woo o be o le@@ fa gabotse .\n",
            "Ke mohlala o mobotse go ba@@ rwa ba ka ba babedi , e bile ke ne@@ ilwe di@@ tokelo ka phuthegong .\n",
            "Gona bjale ke tu@@ mile ka go botega gare ga ba@@ hlahlo@@ bi ba ma@@ kge@@ tho le bao ke dirago kgwebo le bona . ”\n",
            "Ru@@ the o ile a hudu@@ gela Isiraele , moo a bego a ka rapela Modimo wa therešo .\n",
            "Combined BPE Vocab\n",
            "]@@\n",
            "◌\n",
            "kots@@\n",
            "iteronomi@@\n",
            "teronomy\n",
            "̱@@\n",
            "̆\n",
            "ể@@\n",
            "teron@@\n",
            "hlomongwe\n"
          ]
        }
      ]
    },
    {
      "cell_type": "code",
      "metadata": {
        "colab": {
          "base_uri": "https://localhost:8080/"
        },
        "id": "IlMitUHR8Qy-",
        "outputId": "a70979c4-51af-492f-932e-592871c51ceb"
      },
      "source": [
        "# Also move everything we care about to a mounted location in google drive (relevant if running in colab) at gdrive_path\n",
        "! cp train.* \"$gdrive_path\"\n",
        "! cp test.* \"$gdrive_path\"\n",
        "! cp dev.* \"$gdrive_path\"\n",
        "! cp bpe.codes.4000 \"$gdrive_path\"\n",
        "! ls \"$gdrive_path\""
      ],
      "execution_count": 15,
      "outputs": [
        {
          "output_type": "stream",
          "name": "stdout",
          "text": [
            "bpe.codes.4000\tdev.en\t     test.bpe.nso    test.nso\t    train.en\n",
            "dev.bpe.en\tdev.nso      test.en\t     train.bpe.en   train.nso\n",
            "dev.bpe.nso\ttest.bpe.en  test.en-any.en  train.bpe.nso\n"
          ]
        }
      ]
    },
    {
      "cell_type": "markdown",
      "metadata": {
        "id": "Ixmzi60WsUZ8"
      },
      "source": [
        "# Creating the JoeyNMT Config\n",
        "\n",
        "JoeyNMT requires a yaml config. We provide a template below. We've also set a number of defaults with it, that you may play with!\n",
        "\n",
        "- We used Transformer architecture \n",
        "- We set our dropout to reasonably high: 0.3 (recommended in  [(Sennrich, 2019)](https://www.aclweb.org/anthology/P19-1021))\n",
        "\n",
        "Things worth playing with:\n",
        "- The batch size (also recommended to change for low-resourced languages)\n",
        "- The number of epochs (we've set it at 30 just so it runs in about an hour, for testing purposes)\n",
        "- The decoder options (beam_size, alpha)\n",
        "- Evaluation metrics (BLEU versus Crhf4)"
      ]
    },
    {
      "cell_type": "code",
      "metadata": {
        "id": "h8TMgv1p3L1z"
      },
      "source": [
        "# This creates the config file for our JoeyNMT system. It might seem overwhelming so we've provided a couple of useful parameters you'll need to update\n",
        "# (You can of course play with all the parameters if you'd like!)\n",
        "\n",
        "name = '%s%s' % (target_language, source_language)\n",
        "# gdrive_path = os.environ[\"gdrive_path\"]\n",
        "\n",
        "# Create the config\n",
        "config = \"\"\"\n",
        "name: \"{target_language}{source_language}_reverse_transformer\"\n",
        "\n",
        "data:\n",
        "    src: \"{target_language}\"\n",
        "    trg: \"{source_language}\"\n",
        "    train: \"data/{name}/train.bpe\"\n",
        "    dev:   \"data/{name}/dev.bpe\"\n",
        "    test:  \"data/{name}/test.bpe\"\n",
        "    level: \"bpe\"\n",
        "    lowercase: False\n",
        "    max_sent_length: 100\n",
        "    src_vocab: \"data/{name}/vocab.txt\"\n",
        "    trg_vocab: \"data/{name}/vocab.txt\"\n",
        "\n",
        "testing:\n",
        "    beam_size: 5\n",
        "    alpha: 1.0\n",
        "\n",
        "training:\n",
        "    #load_model: \"{gdrive_path}/models/{name}_transformer/1.ckpt\" # if uncommented, load a pre-trained model from this checkpoint\n",
        "    random_seed: 42\n",
        "    optimizer: \"adam\"\n",
        "    normalization: \"tokens\"\n",
        "    adam_betas: [0.9, 0.999] \n",
        "    scheduling: \"plateau\"           # TODO: try switching from plateau to Noam scheduling\n",
        "    patience: 5                     # For plateau: decrease learning rate by decrease_factor if validation score has not improved for this many validation rounds.\n",
        "    learning_rate_factor: 0.5       # factor for Noam scheduler (used with Transformer)\n",
        "    learning_rate_warmup: 1000      # warmup steps for Noam scheduler (used with Transformer)\n",
        "    decrease_factor: 0.7\n",
        "    loss: \"crossentropy\"\n",
        "    learning_rate: 0.0003\n",
        "    learning_rate_min: 0.00000001\n",
        "    weight_decay: 0.0\n",
        "    label_smoothing: 0.1\n",
        "    batch_size: 4096\n",
        "    batch_type: \"token\"\n",
        "    eval_batch_size: 3600\n",
        "    eval_batch_type: \"token\"\n",
        "    batch_multiplier: 1\n",
        "    early_stopping_metric: \"ppl\"\n",
        "    epochs: 5                  # TODO: Decrease for when playing around and checking of working. Around 30 is sufficient to check if its working at all\n",
        "    validation_freq: 1000          # TODO: Set to at least once per epoch.\n",
        "    logging_freq: 100\n",
        "    eval_metric: \"bleu\"\n",
        "    model_dir: \"models/{name}_reverse_transformer\"\n",
        "    overwrite: True              # TODO: Set to True if you want to overwrite possibly existing models. \n",
        "    shuffle: True\n",
        "    use_cuda: True\n",
        "    max_output_length: 100\n",
        "    print_valid_sents: [0, 1, 2, 3]\n",
        "    keep_last_ckpts: 3\n",
        "\n",
        "model:\n",
        "    initializer: \"xavier\"\n",
        "    bias_initializer: \"zeros\"\n",
        "    init_gain: 1.0\n",
        "    embed_initializer: \"xavier\"\n",
        "    embed_init_gain: 1.0\n",
        "    tied_embeddings: True\n",
        "    tied_softmax: True\n",
        "    encoder:\n",
        "        type: \"transformer\"\n",
        "        num_layers: 6\n",
        "        num_heads: 4             # TODO: Increase to 8 for larger data.\n",
        "        embeddings:\n",
        "            embedding_dim: 256   # TODO: Increase to 512 for larger data.\n",
        "            scale: True\n",
        "            dropout: 0.2\n",
        "        # typically ff_size = 4 x hidden_size\n",
        "        hidden_size: 256         # TODO: Increase to 512 for larger data.\n",
        "        ff_size: 1024            # TODO: Increase to 2048 for larger data.\n",
        "        dropout: 0.3\n",
        "    decoder:\n",
        "        type: \"transformer\"\n",
        "        num_layers: 6\n",
        "        num_heads: 4              # TODO: Increase to 8 for larger data.\n",
        "        embeddings:\n",
        "            embedding_dim: 256    # TODO: Increase to 512 for larger data.\n",
        "            scale: True\n",
        "            dropout: 0.2\n",
        "        # typically ff_size = 4 x hidden_size\n",
        "        hidden_size: 256         # TODO: Increase to 512 for larger data.\n",
        "        ff_size: 1024            # TODO: Increase to 2048 for larger data.\n",
        "        dropout: 0.3\n",
        "\"\"\".format(name=name, gdrive_path=os.environ[\"gdrive_path\"], source_language=source_language, target_language=target_language)\n",
        "with open(\"joeynmt/configs/transformer_reverse_{name}.yaml\".format(name=name),'w') as f:\n",
        "    f.write(config)"
      ],
      "execution_count": 16,
      "outputs": []
    },
    {
      "cell_type": "markdown",
      "metadata": {
        "id": "oEzoJtV2MIpt"
      },
      "source": [
        "# Train the Model\n",
        "\n",
        "This single line of joeynmt runs the training using the config we made above"
      ]
    },
    {
      "cell_type": "code",
      "metadata": {
        "colab": {
          "base_uri": "https://localhost:8080/"
        },
        "id": "WzbNYNdjLgNb",
        "outputId": "0316adee-f4ac-4119-bb3c-86b061ca5cf9"
      },
      "source": [
        "# Train the model\n",
        "# You can press Ctrl-C to stop. And then run the next cell to save your checkpoints! \n",
        "!cd joeynmt; python3 -m joeynmt train configs/transformer_reverse_$tgt$src.yaml"
      ],
      "execution_count": null,
      "outputs": [
        {
          "output_type": "stream",
          "name": "stdout",
          "text": [
            "2021-10-14 13:47:44,800 - INFO - root - Hello! This is Joey-NMT (version 1.3).\n",
            "2021-10-14 13:47:44,875 - INFO - joeynmt.data - Loading training data...\n",
            "2021-10-14 13:47:56,452 - INFO - joeynmt.data - Building vocabulary...\n",
            "2021-10-14 13:47:56,774 - INFO - joeynmt.data - Loading dev data...\n",
            "2021-10-14 13:47:56,819 - INFO - joeynmt.data - Loading test data...\n",
            "2021-10-14 13:47:56,883 - INFO - joeynmt.data - Data loaded.\n",
            "2021-10-14 13:47:56,883 - INFO - joeynmt.model - Building an encoder-decoder model...\n",
            "2021-10-14 13:47:57,329 - INFO - joeynmt.model - Enc-dec model built.\n",
            "2021-10-14 13:48:00,413 - INFO - joeynmt.training - Total params: 12188672\n",
            "2021-10-14 13:48:00,416 - WARNING - joeynmt.training - `keep_last_ckpts` option is outdated. Please use `keep_best_ckpts`, instead.\n",
            "2021-10-14 13:48:19,682 - INFO - joeynmt.helpers - cfg.name                           : nsoen_reverse_transformer\n",
            "2021-10-14 13:48:19,683 - INFO - joeynmt.helpers - cfg.data.src                       : nso\n",
            "2021-10-14 13:48:19,683 - INFO - joeynmt.helpers - cfg.data.trg                       : en\n",
            "2021-10-14 13:48:19,683 - INFO - joeynmt.helpers - cfg.data.train                     : data/nsoen/train.bpe\n",
            "2021-10-14 13:48:19,683 - INFO - joeynmt.helpers - cfg.data.dev                       : data/nsoen/dev.bpe\n",
            "2021-10-14 13:48:19,683 - INFO - joeynmt.helpers - cfg.data.test                      : data/nsoen/test.bpe\n",
            "2021-10-14 13:48:19,683 - INFO - joeynmt.helpers - cfg.data.level                     : bpe\n",
            "2021-10-14 13:48:19,683 - INFO - joeynmt.helpers - cfg.data.lowercase                 : False\n",
            "2021-10-14 13:48:19,684 - INFO - joeynmt.helpers - cfg.data.max_sent_length           : 100\n",
            "2021-10-14 13:48:19,684 - INFO - joeynmt.helpers - cfg.data.src_vocab                 : data/nsoen/vocab.txt\n",
            "2021-10-14 13:48:19,684 - INFO - joeynmt.helpers - cfg.data.trg_vocab                 : data/nsoen/vocab.txt\n",
            "2021-10-14 13:48:19,684 - INFO - joeynmt.helpers - cfg.testing.beam_size              : 5\n",
            "2021-10-14 13:48:19,684 - INFO - joeynmt.helpers - cfg.testing.alpha                  : 1.0\n",
            "2021-10-14 13:48:19,684 - INFO - joeynmt.helpers - cfg.training.random_seed           : 42\n",
            "2021-10-14 13:48:19,685 - INFO - joeynmt.helpers - cfg.training.optimizer             : adam\n",
            "2021-10-14 13:48:19,685 - INFO - joeynmt.helpers - cfg.training.normalization         : tokens\n",
            "2021-10-14 13:48:19,685 - INFO - joeynmt.helpers - cfg.training.adam_betas            : [0.9, 0.999]\n",
            "2021-10-14 13:48:19,685 - INFO - joeynmt.helpers - cfg.training.scheduling            : plateau\n",
            "2021-10-14 13:48:19,685 - INFO - joeynmt.helpers - cfg.training.patience              : 5\n",
            "2021-10-14 13:48:19,685 - INFO - joeynmt.helpers - cfg.training.learning_rate_factor  : 0.5\n",
            "2021-10-14 13:48:19,685 - INFO - joeynmt.helpers - cfg.training.learning_rate_warmup  : 1000\n",
            "2021-10-14 13:48:19,686 - INFO - joeynmt.helpers - cfg.training.decrease_factor       : 0.7\n",
            "2021-10-14 13:48:19,686 - INFO - joeynmt.helpers - cfg.training.loss                  : crossentropy\n",
            "2021-10-14 13:48:19,686 - INFO - joeynmt.helpers - cfg.training.learning_rate         : 0.0003\n",
            "2021-10-14 13:48:19,686 - INFO - joeynmt.helpers - cfg.training.learning_rate_min     : 1e-08\n",
            "2021-10-14 13:48:19,686 - INFO - joeynmt.helpers - cfg.training.weight_decay          : 0.0\n",
            "2021-10-14 13:48:19,686 - INFO - joeynmt.helpers - cfg.training.label_smoothing       : 0.1\n",
            "2021-10-14 13:48:19,687 - INFO - joeynmt.helpers - cfg.training.batch_size            : 4096\n",
            "2021-10-14 13:48:19,687 - INFO - joeynmt.helpers - cfg.training.batch_type            : token\n",
            "2021-10-14 13:48:19,687 - INFO - joeynmt.helpers - cfg.training.eval_batch_size       : 3600\n",
            "2021-10-14 13:48:19,687 - INFO - joeynmt.helpers - cfg.training.eval_batch_type       : token\n",
            "2021-10-14 13:48:19,687 - INFO - joeynmt.helpers - cfg.training.batch_multiplier      : 1\n",
            "2021-10-14 13:48:19,687 - INFO - joeynmt.helpers - cfg.training.early_stopping_metric : ppl\n",
            "2021-10-14 13:48:19,687 - INFO - joeynmt.helpers - cfg.training.epochs                : 5\n",
            "2021-10-14 13:48:19,687 - INFO - joeynmt.helpers - cfg.training.validation_freq       : 1000\n",
            "2021-10-14 13:48:19,688 - INFO - joeynmt.helpers - cfg.training.logging_freq          : 100\n",
            "2021-10-14 13:48:19,688 - INFO - joeynmt.helpers - cfg.training.eval_metric           : bleu\n",
            "2021-10-14 13:48:19,688 - INFO - joeynmt.helpers - cfg.training.model_dir             : models/nsoen_reverse_transformer\n",
            "2021-10-14 13:48:19,688 - INFO - joeynmt.helpers - cfg.training.overwrite             : True\n",
            "2021-10-14 13:48:19,688 - INFO - joeynmt.helpers - cfg.training.shuffle               : True\n",
            "2021-10-14 13:48:19,688 - INFO - joeynmt.helpers - cfg.training.use_cuda              : True\n",
            "2021-10-14 13:48:19,689 - INFO - joeynmt.helpers - cfg.training.max_output_length     : 100\n",
            "2021-10-14 13:48:19,689 - INFO - joeynmt.helpers - cfg.training.print_valid_sents     : [0, 1, 2, 3]\n",
            "2021-10-14 13:48:19,689 - INFO - joeynmt.helpers - cfg.training.keep_last_ckpts       : 3\n",
            "2021-10-14 13:48:19,689 - INFO - joeynmt.helpers - cfg.model.initializer              : xavier\n",
            "2021-10-14 13:48:19,689 - INFO - joeynmt.helpers - cfg.model.bias_initializer         : zeros\n",
            "2021-10-14 13:48:19,689 - INFO - joeynmt.helpers - cfg.model.init_gain                : 1.0\n",
            "2021-10-14 13:48:19,689 - INFO - joeynmt.helpers - cfg.model.embed_initializer        : xavier\n",
            "2021-10-14 13:48:19,689 - INFO - joeynmt.helpers - cfg.model.embed_init_gain          : 1.0\n",
            "2021-10-14 13:48:19,690 - INFO - joeynmt.helpers - cfg.model.tied_embeddings          : True\n",
            "2021-10-14 13:48:19,690 - INFO - joeynmt.helpers - cfg.model.tied_softmax             : True\n",
            "2021-10-14 13:48:19,690 - INFO - joeynmt.helpers - cfg.model.encoder.type             : transformer\n",
            "2021-10-14 13:48:19,690 - INFO - joeynmt.helpers - cfg.model.encoder.num_layers       : 6\n",
            "2021-10-14 13:48:19,690 - INFO - joeynmt.helpers - cfg.model.encoder.num_heads        : 4\n",
            "2021-10-14 13:48:19,690 - INFO - joeynmt.helpers - cfg.model.encoder.embeddings.embedding_dim : 256\n",
            "2021-10-14 13:48:19,690 - INFO - joeynmt.helpers - cfg.model.encoder.embeddings.scale : True\n",
            "2021-10-14 13:48:19,690 - INFO - joeynmt.helpers - cfg.model.encoder.embeddings.dropout : 0.2\n",
            "2021-10-14 13:48:19,691 - INFO - joeynmt.helpers - cfg.model.encoder.hidden_size      : 256\n",
            "2021-10-14 13:48:19,691 - INFO - joeynmt.helpers - cfg.model.encoder.ff_size          : 1024\n",
            "2021-10-14 13:48:19,691 - INFO - joeynmt.helpers - cfg.model.encoder.dropout          : 0.3\n",
            "2021-10-14 13:48:19,691 - INFO - joeynmt.helpers - cfg.model.decoder.type             : transformer\n",
            "2021-10-14 13:48:19,691 - INFO - joeynmt.helpers - cfg.model.decoder.num_layers       : 6\n",
            "2021-10-14 13:48:19,691 - INFO - joeynmt.helpers - cfg.model.decoder.num_heads        : 4\n",
            "2021-10-14 13:48:19,691 - INFO - joeynmt.helpers - cfg.model.decoder.embeddings.embedding_dim : 256\n",
            "2021-10-14 13:48:19,692 - INFO - joeynmt.helpers - cfg.model.decoder.embeddings.scale : True\n",
            "2021-10-14 13:48:19,692 - INFO - joeynmt.helpers - cfg.model.decoder.embeddings.dropout : 0.2\n",
            "2021-10-14 13:48:19,692 - INFO - joeynmt.helpers - cfg.model.decoder.hidden_size      : 256\n",
            "2021-10-14 13:48:19,692 - INFO - joeynmt.helpers - cfg.model.decoder.ff_size          : 1024\n",
            "2021-10-14 13:48:19,692 - INFO - joeynmt.helpers - cfg.model.decoder.dropout          : 0.3\n",
            "2021-10-14 13:48:19,692 - INFO - joeynmt.helpers - Data set sizes: \n",
            "\ttrain 548090,\n",
            "\tvalid 1000,\n",
            "\ttest 2705\n",
            "2021-10-14 13:48:19,692 - INFO - joeynmt.helpers - First training example:\n",
            "\t[SRC] Na le wena o tlai@@ šwa ke bolwetši bjoo ma@@ swa@@ o a bjona “ a sa bonaga@@ lego ” ?\n",
            "\t[TRG] Do you too suffe@@ r from an “ in@@ visi@@ ble ” il@@ l@@ ness ?\n",
            "2021-10-14 13:48:19,693 - INFO - joeynmt.helpers - First 10 words (src): (0) <unk> (1) <pad> (2) <s> (3) </s> (4) . (5) , (6) a (7) le (8) go (9) ka\n",
            "2021-10-14 13:48:19,693 - INFO - joeynmt.helpers - First 10 words (trg): (0) <unk> (1) <pad> (2) <s> (3) </s> (4) . (5) , (6) a (7) le (8) go (9) ka\n",
            "2021-10-14 13:48:19,693 - INFO - joeynmt.helpers - Number of Src words (types): 4408\n",
            "2021-10-14 13:48:19,693 - INFO - joeynmt.helpers - Number of Trg words (types): 4408\n",
            "2021-10-14 13:48:19,693 - INFO - joeynmt.training - Model(\n",
            "\tencoder=TransformerEncoder(num_layers=6, num_heads=4),\n",
            "\tdecoder=TransformerDecoder(num_layers=6, num_heads=4),\n",
            "\tsrc_embed=Embeddings(embedding_dim=256, vocab_size=4408),\n",
            "\ttrg_embed=Embeddings(embedding_dim=256, vocab_size=4408))\n",
            "2021-10-14 13:48:19,698 - INFO - joeynmt.training - Train stats:\n",
            "\tdevice: cuda\n",
            "\tn_gpu: 1\n",
            "\t16-bits training: False\n",
            "\tgradient accumulation: 1\n",
            "\tbatch size per device: 4096\n",
            "\ttotal batch size (w. parallel & accumulation): 4096\n",
            "2021-10-14 13:48:19,698 - INFO - joeynmt.training - EPOCH 1\n",
            "2021-10-14 13:48:55,597 - INFO - joeynmt.training - Epoch   1, Step:      100, Batch Loss:     5.672232, Tokens per Sec:     3994, Lr: 0.000300\n",
            "2021-10-14 13:49:30,225 - INFO - joeynmt.training - Epoch   1, Step:      200, Batch Loss:     5.418041, Tokens per Sec:     4087, Lr: 0.000300\n",
            "2021-10-14 13:50:04,705 - INFO - joeynmt.training - Epoch   1, Step:      300, Batch Loss:     5.242280, Tokens per Sec:     4008, Lr: 0.000300\n",
            "2021-10-14 13:50:39,124 - INFO - joeynmt.training - Epoch   1, Step:      400, Batch Loss:     5.040913, Tokens per Sec:     4059, Lr: 0.000300\n",
            "2021-10-14 13:51:13,734 - INFO - joeynmt.training - Epoch   1, Step:      500, Batch Loss:     4.950020, Tokens per Sec:     4052, Lr: 0.000300\n",
            "2021-10-14 13:51:48,448 - INFO - joeynmt.training - Epoch   1, Step:      600, Batch Loss:     4.747100, Tokens per Sec:     4109, Lr: 0.000300\n",
            "2021-10-14 13:52:23,254 - INFO - joeynmt.training - Epoch   1, Step:      700, Batch Loss:     4.607955, Tokens per Sec:     3992, Lr: 0.000300\n",
            "2021-10-14 13:52:57,927 - INFO - joeynmt.training - Epoch   1, Step:      800, Batch Loss:     4.462580, Tokens per Sec:     4105, Lr: 0.000300\n",
            "2021-10-14 13:53:32,518 - INFO - joeynmt.training - Epoch   1, Step:      900, Batch Loss:     4.370663, Tokens per Sec:     4032, Lr: 0.000300\n",
            "2021-10-14 13:54:06,944 - INFO - joeynmt.training - Epoch   1, Step:     1000, Batch Loss:     4.497969, Tokens per Sec:     4088, Lr: 0.000300\n",
            "2021-10-14 13:55:44,165 - WARNING - sacrebleu - That's 100 lines that end in a tokenized period ('.')\n",
            "2021-10-14 13:55:44,165 - WARNING - sacrebleu - It looks like you forgot to detokenize your test data, which may hurt your score.\n",
            "2021-10-14 13:55:44,165 - WARNING - sacrebleu - If you insist your data is detokenized, or don't care, you can suppress this message with the `force` parameter.\n",
            "2021-10-14 13:55:44,177 - INFO - joeynmt.training - Hooray! New best validation result [ppl]!\n",
            "2021-10-14 13:55:44,705 - INFO - joeynmt.training - Example #0\n",
            "2021-10-14 13:55:44,706 - INFO - joeynmt.training - \tSource:     Gantši ba feleletša ba lemoga gore re dira mošomo o mobotse .\n",
            "2021-10-14 13:55:44,706 - INFO - joeynmt.training - \tReference:  Often , the result is that our activity is seen in a positive way .\n",
            "2021-10-14 13:55:44,706 - INFO - joeynmt.training - \tHypothesis: The Bible ’ s Witnesses is not be to be to be .\n",
            "2021-10-14 13:55:44,706 - INFO - joeynmt.training - Example #1\n",
            "2021-10-14 13:55:44,707 - INFO - joeynmt.training - \tSource:     Ge ma - Mexico a setlogo a belegetšwego moo a be a sa amogele bodumedi bjo bofsa , a be a tšewa e le barapedi ba diswantšho gomme a tlaišwa o šoro .\n",
            "2021-10-14 13:55:44,707 - INFO - joeynmt.training - \tReference:  If native-born Mexicans did not embrace the new religion , they were regarded as idolaters and were severely persecuted .\n",
            "2021-10-14 13:55:44,707 - INFO - joeynmt.training - \tHypothesis: The Bible was a colt of the Bible , and the Bible was a ssssssssssssssssssssssssssssssssssssssssssssssssssssssssssssssssssssssssssssssssssss\n",
            "2021-10-14 13:55:44,707 - INFO - joeynmt.training - Example #2\n",
            "2021-10-14 13:55:44,707 - INFO - joeynmt.training - \tSource:     Moprofesara Rudolf Schenkel , mophologi wa tlhaselo ya tšhukudu yo go boletšwego ka yena pejana o lla ka therešo ya gore motho o itirile lenaba le nnoši leo tšhukudu e nago le lona .\n",
            "2021-10-14 13:55:44,707 - INFO - joeynmt.training - \tReference:  Professor Rudolf Schenkel , the survivor of the rhino charge described earlier , laments the fact that man has made himself the only enemy the rhino has .\n",
            "2021-10-14 13:55:44,707 - INFO - joeynmt.training - \tHypothesis: The Bible ’ s Witnesses , the Bible , the Bible , the Bible was a relot , and the Bible was a replt to be a family .\n",
            "2021-10-14 13:55:44,708 - INFO - joeynmt.training - Example #3\n",
            "2021-10-14 13:55:44,708 - INFO - joeynmt.training - \tSource:     Go sa šetšwe gore o na le bana ba bakae , o se ke wa langwa go ba thušeng tseleng e išago bophelong bjo bo sa felego .\n",
            "2021-10-14 13:55:44,708 - INFO - joeynmt.training - \tReference:  No matter how many children you have , never give up in helping them along the path to everlasting life .\n",
            "2021-10-14 13:55:44,708 - INFO - joeynmt.training - \tHypothesis: The Bible was a time , he was a repenred , and the Bible ’ s Witnesses .\n",
            "2021-10-14 13:55:44,708 - INFO - joeynmt.training - Validation result (greedy) at epoch   1, step     1000: bleu:   1.54, loss: 127524.0234, ppl:  77.8808, duration: 97.7638s\n",
            "2021-10-14 13:56:19,400 - INFO - joeynmt.training - Epoch   1, Step:     1100, Batch Loss:     4.386559, Tokens per Sec:     4126, Lr: 0.000300\n",
            "2021-10-14 13:56:53,904 - INFO - joeynmt.training - Epoch   1, Step:     1200, Batch Loss:     4.379228, Tokens per Sec:     4144, Lr: 0.000300\n",
            "2021-10-14 13:57:28,285 - INFO - joeynmt.training - Epoch   1, Step:     1300, Batch Loss:     4.124900, Tokens per Sec:     4098, Lr: 0.000300\n",
            "2021-10-14 13:58:02,621 - INFO - joeynmt.training - Epoch   1, Step:     1400, Batch Loss:     4.151398, Tokens per Sec:     4123, Lr: 0.000300\n",
            "2021-10-14 13:58:37,312 - INFO - joeynmt.training - Epoch   1, Step:     1500, Batch Loss:     4.135476, Tokens per Sec:     4125, Lr: 0.000300\n",
            "2021-10-14 13:59:11,858 - INFO - joeynmt.training - Epoch   1, Step:     1600, Batch Loss:     4.079217, Tokens per Sec:     4034, Lr: 0.000300\n",
            "2021-10-14 13:59:46,399 - INFO - joeynmt.training - Epoch   1, Step:     1700, Batch Loss:     4.025717, Tokens per Sec:     4043, Lr: 0.000300\n",
            "2021-10-14 14:00:20,760 - INFO - joeynmt.training - Epoch   1, Step:     1800, Batch Loss:     3.952763, Tokens per Sec:     4057, Lr: 0.000300\n",
            "2021-10-14 14:00:55,286 - INFO - joeynmt.training - Epoch   1, Step:     1900, Batch Loss:     3.984198, Tokens per Sec:     4120, Lr: 0.000300\n",
            "2021-10-14 14:01:29,683 - INFO - joeynmt.training - Epoch   1, Step:     2000, Batch Loss:     4.090692, Tokens per Sec:     4077, Lr: 0.000300\n",
            "2021-10-14 14:02:35,440 - WARNING - sacrebleu - That's 100 lines that end in a tokenized period ('.')\n",
            "2021-10-14 14:02:35,440 - WARNING - sacrebleu - It looks like you forgot to detokenize your test data, which may hurt your score.\n",
            "2021-10-14 14:02:35,440 - WARNING - sacrebleu - If you insist your data is detokenized, or don't care, you can suppress this message with the `force` parameter.\n",
            "2021-10-14 14:02:35,447 - INFO - joeynmt.training - Hooray! New best validation result [ppl]!\n",
            "2021-10-14 14:02:35,976 - INFO - joeynmt.training - Example #0\n",
            "2021-10-14 14:02:35,976 - INFO - joeynmt.training - \tSource:     Gantši ba feleletša ba lemoga gore re dira mošomo o mobotse .\n",
            "2021-10-14 14:02:35,977 - INFO - joeynmt.training - \tReference:  Often , the result is that our activity is seen in a positive way .\n",
            "2021-10-14 14:02:35,977 - INFO - joeynmt.training - \tHypothesis: The parents can be to be a good news .\n",
            "2021-10-14 14:02:35,977 - INFO - joeynmt.training - Example #1\n",
            "2021-10-14 14:02:35,977 - INFO - joeynmt.training - \tSource:     Ge ma - Mexico a setlogo a belegetšwego moo a be a sa amogele bodumedi bjo bofsa , a be a tšewa e le barapedi ba diswantšho gomme a tlaišwa o šoro .\n",
            "2021-10-14 14:02:35,977 - INFO - joeynmt.training - \tReference:  If native-born Mexicans did not embrace the new religion , they were regarded as idolaters and were severely persecuted .\n",
            "2021-10-14 14:02:35,977 - INFO - joeynmt.training - \tHypothesis: When the Arat was a few of the first of the world , he was a few of the other of the other .\n",
            "2021-10-14 14:02:35,977 - INFO - joeynmt.training - Example #2\n",
            "2021-10-14 14:02:35,978 - INFO - joeynmt.training - \tSource:     Moprofesara Rudolf Schenkel , mophologi wa tlhaselo ya tšhukudu yo go boletšwego ka yena pejana o lla ka therešo ya gore motho o itirile lenaba le nnoši leo tšhukudu e nago le lona .\n",
            "2021-10-14 14:02:35,978 - INFO - joeynmt.training - \tReference:  Professor Rudolf Schenkel , the survivor of the rhino charge described earlier , laments the fact that man has made himself the only enemy the rhino has .\n",
            "2021-10-14 14:02:35,978 - INFO - joeynmt.training - \tHypothesis: The Couth of South , the South , the repes of the repes of the time of the time of the time of the time of the time of the time of the time of the time of the time .\n",
            "2021-10-14 14:02:35,978 - INFO - joeynmt.training - Example #3\n",
            "2021-10-14 14:02:35,978 - INFO - joeynmt.training - \tSource:     Go sa šetšwe gore o na le bana ba bakae , o se ke wa langwa go ba thušeng tseleng e išago bophelong bjo bo sa felego .\n",
            "2021-10-14 14:02:35,978 - INFO - joeynmt.training - \tReference:  No matter how many children you have , never give up in helping them along the path to everlasting life .\n",
            "2021-10-14 14:02:35,979 - INFO - joeynmt.training - \tHypothesis: In fact , they are a few of their children , I have not to be a good news of life .\n",
            "2021-10-14 14:02:35,979 - INFO - joeynmt.training - Validation result (greedy) at epoch   1, step     2000: bleu:   4.14, loss: 112044.1172, ppl:  45.9022, duration: 66.2952s\n",
            "2021-10-14 14:03:10,810 - INFO - joeynmt.training - Epoch   1, Step:     2100, Batch Loss:     3.890679, Tokens per Sec:     4105, Lr: 0.000300\n",
            "2021-10-14 14:03:45,219 - INFO - joeynmt.training - Epoch   1, Step:     2200, Batch Loss:     3.889571, Tokens per Sec:     4073, Lr: 0.000300\n",
            "2021-10-14 14:04:19,733 - INFO - joeynmt.training - Epoch   1, Step:     2300, Batch Loss:     3.962106, Tokens per Sec:     4150, Lr: 0.000300\n",
            "2021-10-14 14:04:54,072 - INFO - joeynmt.training - Epoch   1, Step:     2400, Batch Loss:     3.655140, Tokens per Sec:     3906, Lr: 0.000300\n",
            "2021-10-14 14:05:28,680 - INFO - joeynmt.training - Epoch   1, Step:     2500, Batch Loss:     3.807437, Tokens per Sec:     4082, Lr: 0.000300\n",
            "2021-10-14 14:06:02,966 - INFO - joeynmt.training - Epoch   1, Step:     2600, Batch Loss:     3.614727, Tokens per Sec:     4081, Lr: 0.000300\n",
            "2021-10-14 14:06:37,384 - INFO - joeynmt.training - Epoch   1, Step:     2700, Batch Loss:     3.869403, Tokens per Sec:     4007, Lr: 0.000300\n",
            "2021-10-14 14:07:11,974 - INFO - joeynmt.training - Epoch   1, Step:     2800, Batch Loss:     3.560646, Tokens per Sec:     4121, Lr: 0.000300\n",
            "2021-10-14 14:07:46,526 - INFO - joeynmt.training - Epoch   1, Step:     2900, Batch Loss:     3.458285, Tokens per Sec:     4020, Lr: 0.000300\n",
            "2021-10-14 14:08:20,947 - INFO - joeynmt.training - Epoch   1, Step:     3000, Batch Loss:     3.734736, Tokens per Sec:     4137, Lr: 0.000300\n",
            "2021-10-14 14:09:23,510 - WARNING - sacrebleu - That's 100 lines that end in a tokenized period ('.')\n",
            "2021-10-14 14:09:23,510 - WARNING - sacrebleu - It looks like you forgot to detokenize your test data, which may hurt your score.\n",
            "2021-10-14 14:09:23,510 - WARNING - sacrebleu - If you insist your data is detokenized, or don't care, you can suppress this message with the `force` parameter.\n",
            "2021-10-14 14:09:23,517 - INFO - joeynmt.training - Hooray! New best validation result [ppl]!\n",
            "2021-10-14 14:09:24,037 - INFO - joeynmt.training - Example #0\n",
            "2021-10-14 14:09:24,037 - INFO - joeynmt.training - \tSource:     Gantši ba feleletša ba lemoga gore re dira mošomo o mobotse .\n",
            "2021-10-14 14:09:24,037 - INFO - joeynmt.training - \tReference:  Often , the result is that our activity is seen in a positive way .\n",
            "2021-10-14 14:09:24,037 - INFO - joeynmt.training - \tHypothesis: They are not to know that we are a good news .\n",
            "2021-10-14 14:09:24,038 - INFO - joeynmt.training - Example #1\n",
            "2021-10-14 14:09:24,038 - INFO - joeynmt.training - \tSource:     Ge ma - Mexico a setlogo a belegetšwego moo a be a sa amogele bodumedi bjo bofsa , a be a tšewa e le barapedi ba diswantšho gomme a tlaišwa o šoro .\n",
            "2021-10-14 14:09:24,038 - INFO - joeynmt.training - \tReference:  If native-born Mexicans did not embrace the new religion , they were regarded as idolaters and were severely persecuted .\n",
            "2021-10-14 14:09:24,038 - INFO - joeynmt.training - \tHypothesis: When the Asa was a man who was a new new world , the world was not been been been been been been been been been been been been been been been been been been been been a mightront .\n",
            "2021-10-14 14:09:24,038 - INFO - joeynmt.training - Example #2\n",
            "2021-10-14 14:09:24,038 - INFO - joeynmt.training - \tSource:     Moprofesara Rudolf Schenkel , mophologi wa tlhaselo ya tšhukudu yo go boletšwego ka yena pejana o lla ka therešo ya gore motho o itirile lenaba le nnoši leo tšhukudu e nago le lona .\n",
            "2021-10-14 14:09:24,039 - INFO - joeynmt.training - \tReference:  Professor Rudolf Schenkel , the survivor of the rhino charge described earlier , laments the fact that man has made himself the only enemy the rhino has .\n",
            "2021-10-14 14:09:24,039 - INFO - joeynmt.training - \tHypothesis: The Sharian School of School , the relier of the relier of the way that he was a person that he is a person is a person who is a person of the way .\n",
            "2021-10-14 14:09:24,039 - INFO - joeynmt.training - Example #3\n",
            "2021-10-14 14:09:24,039 - INFO - joeynmt.training - \tSource:     Go sa šetšwe gore o na le bana ba bakae , o se ke wa langwa go ba thušeng tseleng e išago bophelong bjo bo sa felego .\n",
            "2021-10-14 14:09:24,039 - INFO - joeynmt.training - \tReference:  No matter how many children you have , never give up in helping them along the path to everlasting life .\n",
            "2021-10-14 14:09:24,039 - INFO - joeynmt.training - \tHypothesis: As you may be a children , I have been a loss of the good news of life .\n",
            "2021-10-14 14:09:24,040 - INFO - joeynmt.training - Validation result (greedy) at epoch   1, step     3000: bleu:   7.66, loss: 100736.1406, ppl:  31.1971, duration: 63.0923s\n",
            "2021-10-14 14:09:58,814 - INFO - joeynmt.training - Epoch   1, Step:     3100, Batch Loss:     3.537343, Tokens per Sec:     4067, Lr: 0.000300\n",
            "2021-10-14 14:10:33,439 - INFO - joeynmt.training - Epoch   1, Step:     3200, Batch Loss:     3.561217, Tokens per Sec:     4024, Lr: 0.000300\n",
            "2021-10-14 14:11:08,102 - INFO - joeynmt.training - Epoch   1, Step:     3300, Batch Loss:     3.550391, Tokens per Sec:     4014, Lr: 0.000300\n",
            "2021-10-14 14:11:42,907 - INFO - joeynmt.training - Epoch   1, Step:     3400, Batch Loss:     3.424829, Tokens per Sec:     3984, Lr: 0.000300\n",
            "2021-10-14 14:12:18,428 - INFO - joeynmt.training - Epoch   1, Step:     3500, Batch Loss:     3.532650, Tokens per Sec:     4007, Lr: 0.000300\n",
            "2021-10-14 14:12:53,213 - INFO - joeynmt.training - Epoch   1, Step:     3600, Batch Loss:     3.644613, Tokens per Sec:     4021, Lr: 0.000300\n",
            "2021-10-14 14:13:27,802 - INFO - joeynmt.training - Epoch   1, Step:     3700, Batch Loss:     3.317668, Tokens per Sec:     4051, Lr: 0.000300\n",
            "2021-10-14 14:14:02,503 - INFO - joeynmt.training - Epoch   1, Step:     3800, Batch Loss:     3.397760, Tokens per Sec:     4039, Lr: 0.000300\n",
            "2021-10-14 14:14:37,406 - INFO - joeynmt.training - Epoch   1, Step:     3900, Batch Loss:     3.204746, Tokens per Sec:     3991, Lr: 0.000300\n",
            "2021-10-14 14:15:12,385 - INFO - joeynmt.training - Epoch   1, Step:     4000, Batch Loss:     3.407382, Tokens per Sec:     3993, Lr: 0.000300\n",
            "2021-10-14 14:16:12,623 - WARNING - sacrebleu - That's 100 lines that end in a tokenized period ('.')\n",
            "2021-10-14 14:16:12,624 - WARNING - sacrebleu - It looks like you forgot to detokenize your test data, which may hurt your score.\n",
            "2021-10-14 14:16:12,624 - WARNING - sacrebleu - If you insist your data is detokenized, or don't care, you can suppress this message with the `force` parameter.\n",
            "2021-10-14 14:16:12,631 - INFO - joeynmt.training - Hooray! New best validation result [ppl]!\n",
            "2021-10-14 14:16:13,192 - INFO - joeynmt.helpers - delete models/nsoen_reverse_transformer/1000.ckpt\n",
            "2021-10-14 14:16:13,213 - INFO - joeynmt.training - Example #0\n",
            "2021-10-14 14:16:13,213 - INFO - joeynmt.training - \tSource:     Gantši ba feleletša ba lemoga gore re dira mošomo o mobotse .\n",
            "2021-10-14 14:16:13,213 - INFO - joeynmt.training - \tReference:  Often , the result is that our activity is seen in a positive way .\n",
            "2021-10-14 14:16:13,214 - INFO - joeynmt.training - \tHypothesis: They are often often often realize that we are a good news .\n",
            "2021-10-14 14:16:13,214 - INFO - joeynmt.training - Example #1\n",
            "2021-10-14 14:16:13,214 - INFO - joeynmt.training - \tSource:     Ge ma - Mexico a setlogo a belegetšwego moo a be a sa amogele bodumedi bjo bofsa , a be a tšewa e le barapedi ba diswantšho gomme a tlaišwa o šoro .\n",
            "2021-10-14 14:16:13,214 - INFO - joeynmt.training - \tReference:  If native-born Mexicans did not embrace the new religion , they were regarded as idolaters and were severely persecuted .\n",
            "2021-10-14 14:16:13,214 - INFO - joeynmt.training - \tHypothesis: When the Shood of the report was a new nation of the religious religious religious religious , they were reminded and the other other other men .\n",
            "2021-10-14 14:16:13,215 - INFO - joeynmt.training - Example #2\n",
            "2021-10-14 14:16:13,215 - INFO - joeynmt.training - \tSource:     Moprofesara Rudolf Schenkel , mophologi wa tlhaselo ya tšhukudu yo go boletšwego ka yena pejana o lla ka therešo ya gore motho o itirile lenaba le nnoši leo tšhukudu e nago le lona .\n",
            "2021-10-14 14:16:13,215 - INFO - joeynmt.training - \tReference:  Professor Rudolf Schenkel , the survivor of the rhino charge described earlier , laments the fact that man has made himself the only enemy the rhino has .\n",
            "2021-10-14 14:16:13,216 - INFO - joeynmt.training - \tHypothesis: The South of Slolor , the report of the report of the internal , the first time that he is a person ’ s way to be a person .\n",
            "2021-10-14 14:16:13,216 - INFO - joeynmt.training - Example #3\n",
            "2021-10-14 14:16:13,216 - INFO - joeynmt.training - \tSource:     Go sa šetšwe gore o na le bana ba bakae , o se ke wa langwa go ba thušeng tseleng e išago bophelong bjo bo sa felego .\n",
            "2021-10-14 14:16:13,216 - INFO - joeynmt.training - \tReference:  No matter how many children you have , never give up in helping them along the path to everlasting life .\n",
            "2021-10-14 14:16:13,216 - INFO - joeynmt.training - \tHypothesis: Respite you are a young children , I have been a rejob of life in the life of life .\n",
            "2021-10-14 14:16:13,216 - INFO - joeynmt.training - Validation result (greedy) at epoch   1, step     4000: bleu:  10.64, loss: 92702.1484, ppl:  23.7112, duration: 60.8310s\n",
            "2021-10-14 14:16:48,090 - INFO - joeynmt.training - Epoch   1, Step:     4100, Batch Loss:     3.342901, Tokens per Sec:     3970, Lr: 0.000300\n",
            "2021-10-14 14:17:22,756 - INFO - joeynmt.training - Epoch   1, Step:     4200, Batch Loss:     3.333645, Tokens per Sec:     4003, Lr: 0.000300\n",
            "2021-10-14 14:17:57,378 - INFO - joeynmt.training - Epoch   1, Step:     4300, Batch Loss:     3.243349, Tokens per Sec:     4102, Lr: 0.000300\n",
            "2021-10-14 14:18:31,591 - INFO - joeynmt.training - Epoch   1, Step:     4400, Batch Loss:     3.093162, Tokens per Sec:     4050, Lr: 0.000300\n",
            "2021-10-14 14:19:06,367 - INFO - joeynmt.training - Epoch   1, Step:     4500, Batch Loss:     3.288271, Tokens per Sec:     3992, Lr: 0.000300\n",
            "2021-10-14 14:19:40,906 - INFO - joeynmt.training - Epoch   1, Step:     4600, Batch Loss:     2.993680, Tokens per Sec:     4010, Lr: 0.000300\n",
            "2021-10-14 14:20:15,554 - INFO - joeynmt.training - Epoch   1, Step:     4700, Batch Loss:     3.019239, Tokens per Sec:     3976, Lr: 0.000300\n",
            "2021-10-14 14:20:50,253 - INFO - joeynmt.training - Epoch   1, Step:     4800, Batch Loss:     3.175848, Tokens per Sec:     4033, Lr: 0.000300\n"
          ]
        }
      ]
    },
    {
      "cell_type": "code",
      "metadata": {
        "id": "MBoDS09JM807"
      },
      "source": [
        "# Copy the created models from the notebook storage to google drive for persistant storage \n",
        "!cp -r joeynmt/models/${tgt}${src}_reverse_transformer/* \"$gdrive_path/models/${src}${tgt}_reverse_transformer/\""
      ],
      "execution_count": null,
      "outputs": []
    },
    {
      "cell_type": "code",
      "metadata": {
        "id": "n94wlrCjVc17"
      },
      "source": [
        "# Output our validation accuracy\n",
        "! cat \"$gdrive_path/models/${tgt}${src}_reverse_transformer/validations.txt\""
      ],
      "execution_count": null,
      "outputs": []
    },
    {
      "cell_type": "code",
      "metadata": {
        "id": "66WhRE9lIhoD"
      },
      "source": [
        "# Test our model\n",
        "! cd joeynmt; python3 -m joeynmt test \"$gdrive_path/models/${tgt}${src}_reverse_transformer/config.yaml\""
      ],
      "execution_count": null,
      "outputs": []
    }
  ]
}